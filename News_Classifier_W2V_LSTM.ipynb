{
  "nbformat": 4,
  "nbformat_minor": 0,
  "metadata": {
    "colab": {
      "name": "News_Classifier_W2V_LSTM.ipynb",
      "provenance": [],
      "collapsed_sections": [],
      "mount_file_id": "1ZkEwxV4VcbC7dePGibJoeNK3jRPALT-I",
      "authorship_tag": "ABX9TyONLQ7i5AgWsq3MuUFlC/pZ",
      "include_colab_link": true
    },
    "kernelspec": {
      "name": "python3",
      "display_name": "Python 3"
    },
    "language_info": {
      "name": "python"
    }
  },
  "cells": [
    {
      "cell_type": "markdown",
      "metadata": {
        "id": "view-in-github",
        "colab_type": "text"
      },
      "source": [
        "<a href=\"https://colab.research.google.com/github/7330717512/News_category_classifier_model/blob/main/News_Classifier_W2V_LSTM.ipynb\" target=\"_parent\"><img src=\"https://colab.research.google.com/assets/colab-badge.svg\" alt=\"Open In Colab\"/></a>"
      ]
    },
    {
      "cell_type": "code",
      "metadata": {
        "id": "A0xM8RhFaipz"
      },
      "source": [
        "import numpy as np\n",
        "import pandas as pd\n",
        "import matplotlib.pyplot as plt\n",
        "import seaborn as sns"
      ],
      "execution_count": null,
      "outputs": []
    },
    {
      "cell_type": "code",
      "metadata": {
        "id": "ifjIryASbFot"
      },
      "source": [
        "data = pd.read_csv('/content/drive/MyDrive/Kaggle/news-data.csv')"
      ],
      "execution_count": null,
      "outputs": []
    },
    {
      "cell_type": "code",
      "metadata": {
        "colab": {
          "base_uri": "https://localhost:8080/",
          "height": 204
        },
        "id": "lfsl2ZbcbFll",
        "outputId": "b5b0222b-cde7-4033-c7fa-e5c2cb2d7690"
      },
      "source": [
        "data.head()"
      ],
      "execution_count": null,
      "outputs": [
        {
          "output_type": "execute_result",
          "data": {
            "text/html": [
              "<div>\n",
              "<style scoped>\n",
              "    .dataframe tbody tr th:only-of-type {\n",
              "        vertical-align: middle;\n",
              "    }\n",
              "\n",
              "    .dataframe tbody tr th {\n",
              "        vertical-align: top;\n",
              "    }\n",
              "\n",
              "    .dataframe thead th {\n",
              "        text-align: right;\n",
              "    }\n",
              "</style>\n",
              "<table border=\"1\" class=\"dataframe\">\n",
              "  <thead>\n",
              "    <tr style=\"text-align: right;\">\n",
              "      <th></th>\n",
              "      <th>category</th>\n",
              "      <th>text</th>\n",
              "    </tr>\n",
              "  </thead>\n",
              "  <tbody>\n",
              "    <tr>\n",
              "      <th>0</th>\n",
              "      <td>tech</td>\n",
              "      <td>tv future in the hands of viewers with home th...</td>\n",
              "    </tr>\n",
              "    <tr>\n",
              "      <th>1</th>\n",
              "      <td>business</td>\n",
              "      <td>worldcom boss  left books alone  former worldc...</td>\n",
              "    </tr>\n",
              "    <tr>\n",
              "      <th>2</th>\n",
              "      <td>sport</td>\n",
              "      <td>tigers wary of farrell  gamble  leicester say ...</td>\n",
              "    </tr>\n",
              "    <tr>\n",
              "      <th>3</th>\n",
              "      <td>sport</td>\n",
              "      <td>yeading face newcastle in fa cup premiership s...</td>\n",
              "    </tr>\n",
              "    <tr>\n",
              "      <th>4</th>\n",
              "      <td>entertainment</td>\n",
              "      <td>ocean s twelve raids box office ocean s twelve...</td>\n",
              "    </tr>\n",
              "  </tbody>\n",
              "</table>\n",
              "</div>"
            ],
            "text/plain": [
              "        category                                               text\n",
              "0           tech  tv future in the hands of viewers with home th...\n",
              "1       business  worldcom boss  left books alone  former worldc...\n",
              "2          sport  tigers wary of farrell  gamble  leicester say ...\n",
              "3          sport  yeading face newcastle in fa cup premiership s...\n",
              "4  entertainment  ocean s twelve raids box office ocean s twelve..."
            ]
          },
          "metadata": {
            "tags": []
          },
          "execution_count": 3
        }
      ]
    },
    {
      "cell_type": "code",
      "metadata": {
        "colab": {
          "base_uri": "https://localhost:8080/"
        },
        "id": "W8IreJ5nbFiV",
        "outputId": "925bcdd5-44e9-4504-9f1b-64fbe200899b"
      },
      "source": [
        "data.info()"
      ],
      "execution_count": null,
      "outputs": [
        {
          "output_type": "stream",
          "text": [
            "<class 'pandas.core.frame.DataFrame'>\n",
            "RangeIndex: 2225 entries, 0 to 2224\n",
            "Data columns (total 2 columns):\n",
            " #   Column    Non-Null Count  Dtype \n",
            "---  ------    --------------  ----- \n",
            " 0   category  2225 non-null   object\n",
            " 1   text      2225 non-null   object\n",
            "dtypes: object(2)\n",
            "memory usage: 34.9+ KB\n"
          ],
          "name": "stdout"
        }
      ]
    },
    {
      "cell_type": "code",
      "metadata": {
        "id": "voL0AmxgbFfa"
      },
      "source": [
        "data = data.drop_duplicates()"
      ],
      "execution_count": null,
      "outputs": []
    },
    {
      "cell_type": "code",
      "metadata": {
        "id": "ZmiJP24MbFTy"
      },
      "source": [
        "data = data.reset_index()"
      ],
      "execution_count": null,
      "outputs": []
    },
    {
      "cell_type": "code",
      "metadata": {
        "id": "Q_8DNfkabFRK"
      },
      "source": [
        "data.drop('index',inplace=True,axis=1)"
      ],
      "execution_count": null,
      "outputs": []
    },
    {
      "cell_type": "code",
      "metadata": {
        "colab": {
          "base_uri": "https://localhost:8080/"
        },
        "id": "wCpDM4mPbFOG",
        "outputId": "e6a6fe42-1f9f-4de6-c693-49c52d66ce33"
      },
      "source": [
        "import re\n",
        "import nltk\n",
        "nltk.download('stopwords')"
      ],
      "execution_count": null,
      "outputs": [
        {
          "output_type": "stream",
          "text": [
            "[nltk_data] Downloading package stopwords to /root/nltk_data...\n",
            "[nltk_data]   Unzipping corpora/stopwords.zip.\n"
          ],
          "name": "stdout"
        },
        {
          "output_type": "execute_result",
          "data": {
            "text/plain": [
              "True"
            ]
          },
          "metadata": {
            "tags": []
          },
          "execution_count": 8
        }
      ]
    },
    {
      "cell_type": "code",
      "metadata": {
        "id": "JYBS51Y_bFLF"
      },
      "source": [
        "from nltk.corpus import stopwords"
      ],
      "execution_count": null,
      "outputs": []
    },
    {
      "cell_type": "code",
      "metadata": {
        "colab": {
          "base_uri": "https://localhost:8080/",
          "height": 204
        },
        "id": "iF8juArHbFHf",
        "outputId": "b4711c6d-cb4f-4bda-c1a3-33e2cec85aaa"
      },
      "source": [
        "data.sample(5)"
      ],
      "execution_count": null,
      "outputs": [
        {
          "output_type": "execute_result",
          "data": {
            "text/html": [
              "<div>\n",
              "<style scoped>\n",
              "    .dataframe tbody tr th:only-of-type {\n",
              "        vertical-align: middle;\n",
              "    }\n",
              "\n",
              "    .dataframe tbody tr th {\n",
              "        vertical-align: top;\n",
              "    }\n",
              "\n",
              "    .dataframe thead th {\n",
              "        text-align: right;\n",
              "    }\n",
              "</style>\n",
              "<table border=\"1\" class=\"dataframe\">\n",
              "  <thead>\n",
              "    <tr style=\"text-align: right;\">\n",
              "      <th></th>\n",
              "      <th>category</th>\n",
              "      <th>text</th>\n",
              "    </tr>\n",
              "  </thead>\n",
              "  <tbody>\n",
              "    <tr>\n",
              "      <th>778</th>\n",
              "      <td>tech</td>\n",
              "      <td>virus poses as christmas e-mail security firms...</td>\n",
              "    </tr>\n",
              "    <tr>\n",
              "      <th>399</th>\n",
              "      <td>tech</td>\n",
              "      <td>progress on new internet domains by early 2005...</td>\n",
              "    </tr>\n",
              "    <tr>\n",
              "      <th>1475</th>\n",
              "      <td>business</td>\n",
              "      <td>fed chief warning on us deficit federal reserv...</td>\n",
              "    </tr>\n",
              "    <tr>\n",
              "      <th>195</th>\n",
              "      <td>entertainment</td>\n",
              "      <td>versace art portfolio up for sale the art coll...</td>\n",
              "    </tr>\n",
              "    <tr>\n",
              "      <th>2078</th>\n",
              "      <td>sport</td>\n",
              "      <td>palace threat over cantona masks manchester un...</td>\n",
              "    </tr>\n",
              "  </tbody>\n",
              "</table>\n",
              "</div>"
            ],
            "text/plain": [
              "           category                                               text\n",
              "778            tech  virus poses as christmas e-mail security firms...\n",
              "399            tech  progress on new internet domains by early 2005...\n",
              "1475       business  fed chief warning on us deficit federal reserv...\n",
              "195   entertainment  versace art portfolio up for sale the art coll...\n",
              "2078          sport  palace threat over cantona masks manchester un..."
            ]
          },
          "metadata": {
            "tags": []
          },
          "execution_count": 10
        }
      ]
    },
    {
      "cell_type": "code",
      "metadata": {
        "id": "8tLmk9Dcfozs"
      },
      "source": [
        "corpus = []\n",
        "for i in range(0, len(data)):\n",
        "  text = re.sub('[^a-zA-Z]', ' ', data['text'][i])\n",
        "  text = text.lower()\n",
        "  text = ' '.join((word) for word in text.split() if word not in stopwords.words('english'))\n",
        "  corpus.append(text)"
      ],
      "execution_count": null,
      "outputs": []
    },
    {
      "cell_type": "code",
      "metadata": {
        "colab": {
          "base_uri": "https://localhost:8080/"
        },
        "id": "6QOPXtliiT3E",
        "outputId": "bd9ea516-59a1-4b44-e1f9-f51daa435286"
      },
      "source": [
        "type(corpus)"
      ],
      "execution_count": null,
      "outputs": [
        {
          "output_type": "execute_result",
          "data": {
            "text/plain": [
              "list"
            ]
          },
          "metadata": {
            "tags": []
          },
          "execution_count": 12
        }
      ]
    },
    {
      "cell_type": "code",
      "metadata": {
        "id": "B6MpTXX0iT0F"
      },
      "source": [
        "import gensim"
      ],
      "execution_count": null,
      "outputs": []
    },
    {
      "cell_type": "code",
      "metadata": {
        "id": "xqxsvdgdiTxc"
      },
      "source": [
        "X = [text.split() for text in corpus]"
      ],
      "execution_count": null,
      "outputs": []
    },
    {
      "cell_type": "code",
      "metadata": {
        "colab": {
          "base_uri": "https://localhost:8080/"
        },
        "id": "iRuT7Ne4iTu4",
        "outputId": "a3cbb0d3-d9c7-4db2-9c95-1b03d97a045f"
      },
      "source": [
        "print(X[0])"
      ],
      "execution_count": null,
      "outputs": [
        {
          "output_type": "stream",
          "text": [
            "['tv', 'future', 'hands', 'viewers', 'home', 'theatre', 'systems', 'plasma', 'high', 'definition', 'tvs', 'digital', 'video', 'recorders', 'moving', 'living', 'room', 'way', 'people', 'watch', 'tv', 'radically', 'different', 'five', 'years', 'time', 'according', 'expert', 'panel', 'gathered', 'annual', 'consumer', 'electronics', 'show', 'las', 'vegas', 'discuss', 'new', 'technologies', 'impact', 'one', 'favourite', 'pastimes', 'us', 'leading', 'trend', 'programmes', 'content', 'delivered', 'viewers', 'via', 'home', 'networks', 'cable', 'satellite', 'telecoms', 'companies', 'broadband', 'service', 'providers', 'front', 'rooms', 'portable', 'devices', 'one', 'talked', 'technologies', 'ces', 'digital', 'personal', 'video', 'recorders', 'dvr', 'pvr', 'set', 'top', 'boxes', 'like', 'us', 'tivo', 'uk', 'sky', 'system', 'allow', 'people', 'record', 'store', 'play', 'pause', 'forward', 'wind', 'tv', 'programmes', 'want', 'essentially', 'technology', 'allows', 'much', 'personalised', 'tv', 'also', 'built', 'high', 'definition', 'tv', 'sets', 'big', 'business', 'japan', 'us', 'slower', 'take', 'europe', 'lack', 'high', 'definition', 'programming', 'people', 'forward', 'wind', 'adverts', 'also', 'forget', 'abiding', 'network', 'channel', 'schedules', 'putting', 'together', 'la', 'carte', 'entertainment', 'us', 'networks', 'cable', 'satellite', 'companies', 'worried', 'means', 'terms', 'advertising', 'revenues', 'well', 'brand', 'identity', 'viewer', 'loyalty', 'channels', 'although', 'us', 'leads', 'technology', 'moment', 'also', 'concern', 'raised', 'europe', 'particularly', 'growing', 'uptake', 'services', 'like', 'sky', 'happens', 'today', 'see', 'nine', 'months', 'years', 'time', 'uk', 'adam', 'hume', 'bbc', 'broadcast', 'futurologist', 'told', 'bbc', 'news', 'website', 'likes', 'bbc', 'issues', 'lost', 'advertising', 'revenue', 'yet', 'pressing', 'issue', 'moment', 'commercial', 'uk', 'broadcasters', 'brand', 'loyalty', 'important', 'everyone', 'talking', 'content', 'brands', 'rather', 'network', 'brands', 'said', 'tim', 'hanlon', 'brand', 'communications', 'firm', 'starcom', 'mediavest', 'reality', 'broadband', 'connections', 'anybody', 'producer', 'content', 'added', 'challenge', 'hard', 'promote', 'programme', 'much', 'choice', 'means', 'said', 'stacey', 'jolna', 'senior', 'vice', 'president', 'tv', 'guide', 'tv', 'group', 'way', 'people', 'find', 'content', 'want', 'watch', 'simplified', 'tv', 'viewers', 'means', 'networks', 'us', 'terms', 'channels', 'could', 'take', 'leaf', 'google', 'book', 'search', 'engine', 'future', 'instead', 'scheduler', 'help', 'people', 'find', 'want', 'watch', 'kind', 'channel', 'model', 'might', 'work', 'younger', 'ipod', 'generation', 'used', 'taking', 'control', 'gadgets', 'play', 'might', 'suit', 'everyone', 'panel', 'recognised', 'older', 'generations', 'comfortable', 'familiar', 'schedules', 'channel', 'brands', 'know', 'getting', 'perhaps', 'want', 'much', 'choice', 'put', 'hands', 'mr', 'hanlon', 'suggested', 'end', 'kids', 'diapers', 'pushing', 'buttons', 'already', 'everything', 'possible', 'available', 'said', 'mr', 'hanlon', 'ultimately', 'consumer', 'tell', 'market', 'want', 'new', 'gadgets', 'technologies', 'showcased', 'ces', 'many', 'enhancing', 'tv', 'watching', 'experience', 'high', 'definition', 'tv', 'sets', 'everywhere', 'many', 'new', 'models', 'lcd', 'liquid', 'crystal', 'display', 'tvs', 'launched', 'dvr', 'capability', 'built', 'instead', 'external', 'boxes', 'one', 'example', 'launched', 'show', 'humax', 'inch', 'lcd', 'tv', 'hour', 'tivo', 'dvr', 'dvd', 'recorder', 'one', 'us', 'biggest', 'satellite', 'tv', 'companies', 'directtv', 'even', 'launched', 'branded', 'dvr', 'show', 'hours', 'recording', 'capability', 'instant', 'replay', 'search', 'function', 'set', 'pause', 'rewind', 'tv', 'hours', 'microsoft', 'chief', 'bill', 'gates', 'announced', 'pre', 'show', 'keynote', 'speech', 'partnership', 'tivo', 'called', 'tivotogo', 'means', 'people', 'play', 'recorded', 'programmes', 'windows', 'pcs', 'mobile', 'devices', 'reflect', 'increasing', 'trend', 'freeing', 'multimedia', 'people', 'watch', 'want', 'want']\n"
          ],
          "name": "stdout"
        }
      ]
    },
    {
      "cell_type": "code",
      "metadata": {
        "id": "uZ7JFExOiTrj"
      },
      "source": [
        "word_dim = 100\n",
        "w2v_model = gensim.models.Word2Vec(sentences=X, size=word_dim, window=10, min_count=1)"
      ],
      "execution_count": null,
      "outputs": []
    },
    {
      "cell_type": "code",
      "metadata": {
        "colab": {
          "base_uri": "https://localhost:8080/"
        },
        "id": "rjWou9khkKr9",
        "outputId": "8c4b9749-1431-4383-846d-3afbc213d07a"
      },
      "source": [
        "len(w2v_model.wv.vocab)"
      ],
      "execution_count": null,
      "outputs": [
        {
          "output_type": "execute_result",
          "data": {
            "text/plain": [
              "27757"
            ]
          },
          "metadata": {
            "tags": []
          },
          "execution_count": 17
        }
      ]
    },
    {
      "cell_type": "code",
      "metadata": {
        "colab": {
          "base_uri": "https://localhost:8080/"
        },
        "id": "1_-66WN9l23N",
        "outputId": "f7315932-c55f-401c-95f4-32d5df0fc1c0"
      },
      "source": [
        "w2v_model.wv['tv']"
      ],
      "execution_count": null,
      "outputs": [
        {
          "output_type": "execute_result",
          "data": {
            "text/plain": [
              "array([ 0.67662275, -1.0334438 , -1.2498723 ,  0.4642259 , -0.31823134,\n",
              "        0.9096595 ,  0.6405862 ,  0.02017526,  0.46156716,  0.4930793 ,\n",
              "        1.204403  , -1.1971449 , -0.6796143 ,  1.4479973 ,  1.6374243 ,\n",
              "       -1.4468589 , -0.6026423 ,  0.81836516, -0.6939856 , -0.39179695,\n",
              "        0.8256182 , -0.28909612, -0.3669232 ,  0.01656687, -0.16160132,\n",
              "        0.68780845,  2.1231458 ,  0.734782  , -1.4832156 , -0.02544208,\n",
              "        0.8019432 , -0.26191905,  0.41494957, -0.7801892 ,  1.0867957 ,\n",
              "       -0.28089076, -0.3203305 ,  2.237911  , -0.7455646 ,  0.3096855 ,\n",
              "        0.49603358,  1.5252997 ,  0.5052769 ,  0.2480773 ,  0.3260491 ,\n",
              "        0.40494174,  1.8208326 ,  0.97670597, -0.4740476 ,  0.29046497,\n",
              "       -0.35490853,  0.25327888,  0.23319468, -1.101716  ,  0.49833256,\n",
              "       -0.7253098 , -0.70313704,  1.1808445 ,  1.7187347 , -0.30352384,\n",
              "        0.02588947,  0.1269267 , -1.1466702 ,  0.6287944 , -1.1429576 ,\n",
              "       -0.05408631, -0.76962334, -1.214287  ,  0.6539099 , -0.738017  ,\n",
              "        0.7735701 , -0.6484285 , -1.0400566 , -0.35215715, -0.06069158,\n",
              "        1.1760114 , -2.4579597 ,  0.56207675,  0.31365502, -0.18505621,\n",
              "       -0.8164232 , -0.6954811 , -0.66201323,  0.456855  ,  0.84591925,\n",
              "        1.3840461 ,  0.4953465 ,  1.6954476 ,  1.0087664 ,  0.35192075,\n",
              "       -0.14827734,  0.11904654, -0.5646286 ,  1.1725581 , -0.03100703,\n",
              "       -0.35647017,  0.50132036,  0.44237953, -0.87800753, -0.58431983],\n",
              "      dtype=float32)"
            ]
          },
          "metadata": {
            "tags": []
          },
          "execution_count": 18
        }
      ]
    },
    {
      "cell_type": "code",
      "metadata": {
        "colab": {
          "base_uri": "https://localhost:8080/"
        },
        "id": "-WwmSZvvl21z",
        "outputId": "7859be0e-4800-47d2-dead-0ec3f7d17152"
      },
      "source": [
        "w2v_model.wv.most_similar('tvs')"
      ],
      "execution_count": null,
      "outputs": [
        {
          "output_type": "execute_result",
          "data": {
            "text/plain": [
              "[('hd', 0.9992241859436035),\n",
              " ('boxes', 0.998249888420105),\n",
              " ('popular', 0.9976439476013184),\n",
              " ('gadgets', 0.997218906879425),\n",
              " ('formats', 0.9964967370033264),\n",
              " ('screens', 0.9963586330413818),\n",
              " ('samsung', 0.9961361885070801),\n",
              " ('pdas', 0.9959554672241211),\n",
              " ('discs', 0.9957420825958252),\n",
              " ('connectivity', 0.9955297112464905)]"
            ]
          },
          "metadata": {
            "tags": []
          },
          "execution_count": 19
        }
      ]
    },
    {
      "cell_type": "code",
      "metadata": {
        "id": "FZwoiBHDl20X"
      },
      "source": [
        "from keras.preprocessing.text import Tokenizer"
      ],
      "execution_count": null,
      "outputs": []
    },
    {
      "cell_type": "code",
      "metadata": {
        "id": "FuL7jRnal2r-"
      },
      "source": [
        "tokenizer = Tokenizer()\n",
        "tokenizer.fit_on_texts(X)"
      ],
      "execution_count": null,
      "outputs": []
    },
    {
      "cell_type": "code",
      "metadata": {
        "id": "gvgoZSsdl2ow"
      },
      "source": [
        "X = tokenizer.texts_to_sequences(X)"
      ],
      "execution_count": null,
      "outputs": []
    },
    {
      "cell_type": "code",
      "metadata": {
        "colab": {
          "base_uri": "https://localhost:8080/"
        },
        "id": "dd3vkdZPq4g8",
        "outputId": "991047e2-3ff1-46c4-ca83-c223af2f05ac"
      },
      "source": [
        "tokenizer.word_index"
      ],
      "execution_count": null,
      "outputs": [
        {
          "output_type": "execute_result",
          "data": {
            "text/plain": [
              "{'said': 1,\n",
              " 'mr': 2,\n",
              " 'would': 3,\n",
              " 'year': 4,\n",
              " 'also': 5,\n",
              " 'people': 6,\n",
              " 'us': 7,\n",
              " 'new': 8,\n",
              " 'one': 9,\n",
              " 'could': 10,\n",
              " 'last': 11,\n",
              " 'first': 12,\n",
              " 'time': 13,\n",
              " 'two': 14,\n",
              " 'world': 15,\n",
              " 'government': 16,\n",
              " 'uk': 17,\n",
              " 'years': 18,\n",
              " 'bn': 19,\n",
              " 'best': 20,\n",
              " 'make': 21,\n",
              " 'told': 22,\n",
              " 'game': 23,\n",
              " 'get': 24,\n",
              " 'film': 25,\n",
              " 'like': 26,\n",
              " 'made': 27,\n",
              " 'back': 28,\n",
              " 'three': 29,\n",
              " 'many': 30,\n",
              " 'labour': 31,\n",
              " 'music': 32,\n",
              " 'bbc': 33,\n",
              " 'next': 34,\n",
              " 'set': 35,\n",
              " 'well': 36,\n",
              " 'added': 37,\n",
              " 'take': 38,\n",
              " 'way': 39,\n",
              " 'number': 40,\n",
              " 'market': 41,\n",
              " 'may': 42,\n",
              " 'company': 43,\n",
              " 'says': 44,\n",
              " 'home': 45,\n",
              " 'good': 46,\n",
              " 'election': 47,\n",
              " 'england': 48,\n",
              " 'going': 49,\n",
              " 'party': 50,\n",
              " 'games': 51,\n",
              " 'still': 52,\n",
              " 'much': 53,\n",
              " 'win': 54,\n",
              " 'since': 55,\n",
              " 'think': 56,\n",
              " 'go': 57,\n",
              " 'second': 58,\n",
              " 'work': 59,\n",
              " 'top': 60,\n",
              " 'firm': 61,\n",
              " 'show': 62,\n",
              " 'week': 63,\n",
              " 'blair': 64,\n",
              " 'say': 65,\n",
              " 'play': 66,\n",
              " 'part': 67,\n",
              " 'minister': 68,\n",
              " 'use': 69,\n",
              " 'british': 70,\n",
              " 'want': 71,\n",
              " 'million': 72,\n",
              " 'public': 73,\n",
              " 'high': 74,\n",
              " 'see': 75,\n",
              " 'country': 76,\n",
              " 'five': 77,\n",
              " 'european': 78,\n",
              " 'technology': 79,\n",
              " 'used': 80,\n",
              " 'tv': 81,\n",
              " 'however': 82,\n",
              " 'end': 83,\n",
              " 'news': 84,\n",
              " 'mobile': 85,\n",
              " 'expected': 86,\n",
              " 'group': 87,\n",
              " 'even': 88,\n",
              " 'players': 89,\n",
              " 'four': 90,\n",
              " 'old': 91,\n",
              " 'sales': 92,\n",
              " 'plans': 93,\n",
              " 'half': 94,\n",
              " 'six': 95,\n",
              " 'london': 96,\n",
              " 'day': 97,\n",
              " 'put': 98,\n",
              " 'come': 99,\n",
              " 'already': 100,\n",
              " 'chief': 101,\n",
              " 'brown': 102,\n",
              " 'months': 103,\n",
              " 'former': 104,\n",
              " 'long': 105,\n",
              " 'growth': 106,\n",
              " 'britain': 107,\n",
              " 'economy': 108,\n",
              " 'money': 109,\n",
              " 'tax': 110,\n",
              " 'deal': 111,\n",
              " 'director': 112,\n",
              " 'companies': 113,\n",
              " 'record': 114,\n",
              " 'service': 115,\n",
              " 'right': 116,\n",
              " 'industry': 117,\n",
              " 'big': 118,\n",
              " 'net': 119,\n",
              " 'international': 120,\n",
              " 'need': 121,\n",
              " 'team': 122,\n",
              " 'based': 123,\n",
              " 'month': 124,\n",
              " 'europe': 125,\n",
              " 'according': 126,\n",
              " 'help': 127,\n",
              " 'including': 128,\n",
              " 'third': 129,\n",
              " 'wales': 130,\n",
              " 'services': 131,\n",
              " 'place': 132,\n",
              " 'around': 133,\n",
              " 'system': 134,\n",
              " 'business': 135,\n",
              " 'great': 136,\n",
              " 'economic': 137,\n",
              " 'final': 138,\n",
              " 'bank': 139,\n",
              " 'another': 140,\n",
              " 'really': 141,\n",
              " 'club': 142,\n",
              " 'move': 143,\n",
              " 'open': 144,\n",
              " 'got': 145,\n",
              " 'called': 146,\n",
              " 'report': 147,\n",
              " 'start': 148,\n",
              " 'hit': 149,\n",
              " 'phone': 150,\n",
              " 'life': 151,\n",
              " 'future': 152,\n",
              " 'users': 153,\n",
              " 'howard': 154,\n",
              " 'came': 155,\n",
              " 'france': 156,\n",
              " 'took': 157,\n",
              " 'general': 158,\n",
              " 'spokesman': 159,\n",
              " 'know': 160,\n",
              " 'better': 161,\n",
              " 'firms': 162,\n",
              " 'court': 163,\n",
              " 'digital': 164,\n",
              " 'video': 165,\n",
              " 'side': 166,\n",
              " 'law': 167,\n",
              " 'state': 168,\n",
              " 'radio': 169,\n",
              " 'united': 170,\n",
              " 'decision': 171,\n",
              " 'ireland': 172,\n",
              " 'real': 173,\n",
              " 'without': 174,\n",
              " 'office': 175,\n",
              " 'online': 176,\n",
              " 'far': 177,\n",
              " 'despite': 178,\n",
              " 'president': 179,\n",
              " 'action': 180,\n",
              " 'campaign': 181,\n",
              " 'making': 182,\n",
              " 'found': 183,\n",
              " 'line': 184,\n",
              " 'saying': 185,\n",
              " 'china': 186,\n",
              " 'prime': 187,\n",
              " 'give': 188,\n",
              " 'information': 189,\n",
              " 'lot': 190,\n",
              " 'software': 191,\n",
              " 'seen': 192,\n",
              " 'awards': 193,\n",
              " 'national': 194,\n",
              " 'likely': 195,\n",
              " 'using': 196,\n",
              " 'countries': 197,\n",
              " 'figures': 198,\n",
              " 'run': 199,\n",
              " 'executive': 200,\n",
              " 'oil': 201,\n",
              " 'given': 202,\n",
              " 'offer': 203,\n",
              " 'foreign': 204,\n",
              " 'lost': 205,\n",
              " 'away': 206,\n",
              " 'cup': 207,\n",
              " 'match': 208,\n",
              " 'data': 209,\n",
              " 'player': 210,\n",
              " 'left': 211,\n",
              " 'playing': 212,\n",
              " 'media': 213,\n",
              " 'rise': 214,\n",
              " 'security': 215,\n",
              " 'computer': 216,\n",
              " 'december': 217,\n",
              " 'every': 218,\n",
              " 'biggest': 219,\n",
              " 'times': 220,\n",
              " 'secretary': 221,\n",
              " 'eu': 222,\n",
              " 'nations': 223,\n",
              " 'man': 224,\n",
              " 'star': 225,\n",
              " 'past': 226,\n",
              " 'look': 227,\n",
              " 'although': 228,\n",
              " 'able': 229,\n",
              " 'january': 230,\n",
              " 'case': 231,\n",
              " 'award': 232,\n",
              " 'pay': 233,\n",
              " 'become': 234,\n",
              " 'later': 235,\n",
              " 'cost': 236,\n",
              " 'internet': 237,\n",
              " 'whether': 238,\n",
              " 'prices': 239,\n",
              " 'early': 240,\n",
              " 'earlier': 241,\n",
              " 'less': 242,\n",
              " 'leader': 243,\n",
              " 'recent': 244,\n",
              " 'shares': 245,\n",
              " 'cut': 246,\n",
              " 'children': 247,\n",
              " 'played': 248,\n",
              " 'little': 249,\n",
              " 'days': 250,\n",
              " 'interest': 251,\n",
              " 'hard': 252,\n",
              " 'house': 253,\n",
              " 'season': 254,\n",
              " 'strong': 255,\n",
              " 'taking': 256,\n",
              " 'never': 257,\n",
              " 'michael': 258,\n",
              " 'role': 259,\n",
              " 'analysts': 260,\n",
              " 'lord': 261,\n",
              " 'important': 262,\n",
              " 'anti': 263,\n",
              " 'research': 264,\n",
              " 'legal': 265,\n",
              " 'believe': 266,\n",
              " 'bill': 267,\n",
              " 'spending': 268,\n",
              " 'due': 269,\n",
              " 'face': 270,\n",
              " 'tory': 271,\n",
              " 'went': 272,\n",
              " 'current': 273,\n",
              " 'major': 274,\n",
              " 'increase': 275,\n",
              " 'following': 276,\n",
              " 'budget': 277,\n",
              " 'support': 278,\n",
              " 'financial': 279,\n",
              " 'local': 280,\n",
              " 'police': 281,\n",
              " 'ahead': 282,\n",
              " 'working': 283,\n",
              " 'john': 284,\n",
              " 'return': 285,\n",
              " 'south': 286,\n",
              " 'full': 287,\n",
              " 'change': 288,\n",
              " 'e': 289,\n",
              " 'chancellor': 290,\n",
              " 'issue': 291,\n",
              " 'david': 292,\n",
              " 'looking': 293,\n",
              " 'held': 294,\n",
              " 'series': 295,\n",
              " 'must': 296,\n",
              " 'thought': 297,\n",
              " 'scotland': 298,\n",
              " 'quarter': 299,\n",
              " 'control': 300,\n",
              " 'sunday': 301,\n",
              " 'try': 302,\n",
              " 'something': 303,\n",
              " 'g': 304,\n",
              " 'rights': 305,\n",
              " 'free': 306,\n",
              " 'power': 307,\n",
              " 'films': 308,\n",
              " 'always': 309,\n",
              " 'women': 310,\n",
              " 'trade': 311,\n",
              " 'different': 312,\n",
              " 'announced': 313,\n",
              " 'tories': 314,\n",
              " 'among': 315,\n",
              " 'broadband': 316,\n",
              " 'yet': 317,\n",
              " 'chance': 318,\n",
              " 'dollar': 319,\n",
              " 'meeting': 320,\n",
              " 'winning': 321,\n",
              " 'sale': 322,\n",
              " 'latest': 323,\n",
              " 'microsoft': 324,\n",
              " 'ms': 325,\n",
              " 'injury': 326,\n",
              " 'almost': 327,\n",
              " 'lead': 328,\n",
              " 'point': 329,\n",
              " 'currently': 330,\n",
              " 'might': 331,\n",
              " 'key': 332,\n",
              " 'rate': 333,\n",
              " 'ever': 334,\n",
              " 'find': 335,\n",
              " 'ago': 336,\n",
              " 'keep': 337,\n",
              " 'programme': 338,\n",
              " 'problem': 339,\n",
              " 'coach': 340,\n",
              " 'share': 341,\n",
              " 'access': 342,\n",
              " 'personal': 343,\n",
              " 'claims': 344,\n",
              " 'taken': 345,\n",
              " 'problems': 346,\n",
              " 'low': 347,\n",
              " 'clear': 348,\n",
              " 'men': 349,\n",
              " 'performance': 350,\n",
              " 'things': 351,\n",
              " 'american': 352,\n",
              " 'statement': 353,\n",
              " 'chairman': 354,\n",
              " 'band': 355,\n",
              " 'include': 356,\n",
              " 'march': 357,\n",
              " 'enough': 358,\n",
              " 'website': 359,\n",
              " 'rather': 360,\n",
              " 'behind': 361,\n",
              " 'political': 362,\n",
              " 'demand': 363,\n",
              " 'head': 364,\n",
              " 'minutes': 365,\n",
              " 'mark': 366,\n",
              " 'done': 367,\n",
              " 'across': 368,\n",
              " 'manager': 369,\n",
              " 'tony': 370,\n",
              " 'getting': 371,\n",
              " 'tuesday': 372,\n",
              " 'rugby': 373,\n",
              " 'th': 374,\n",
              " 'sold': 375,\n",
              " 'means': 376,\n",
              " 'wednesday': 377,\n",
              " 'released': 378,\n",
              " 'february': 379,\n",
              " 'war': 380,\n",
              " 'title': 381,\n",
              " 'needed': 382,\n",
              " 'price': 383,\n",
              " 'india': 384,\n",
              " 'continue': 385,\n",
              " 'term': 386,\n",
              " 'job': 387,\n",
              " 'bid': 388,\n",
              " 'victory': 389,\n",
              " 'japan': 390,\n",
              " 'search': 391,\n",
              " 'possible': 392,\n",
              " 'november': 393,\n",
              " 'least': 394,\n",
              " 'chelsea': 395,\n",
              " 'council': 396,\n",
              " 'network': 397,\n",
              " 'list': 398,\n",
              " 'young': 399,\n",
              " 'williams': 400,\n",
              " 'monday': 401,\n",
              " 'within': 402,\n",
              " 'investment': 403,\n",
              " 'phones': 404,\n",
              " 'today': 405,\n",
              " 'costs': 406,\n",
              " 'weeks': 407,\n",
              " 'actor': 408,\n",
              " 'friday': 409,\n",
              " 'level': 410,\n",
              " 'yukos': 411,\n",
              " 'jobs': 412,\n",
              " 'warned': 413,\n",
              " 'result': 414,\n",
              " 'saturday': 415,\n",
              " 'coming': 416,\n",
              " 'allow': 417,\n",
              " 'huge': 418,\n",
              " 'fans': 419,\n",
              " 'mps': 420,\n",
              " 'act': 421,\n",
              " 'asked': 422,\n",
              " 'thing': 423,\n",
              " 'league': 424,\n",
              " 'centre': 425,\n",
              " 'members': 426,\n",
              " 'policy': 427,\n",
              " 'p': 428,\n",
              " 'plan': 429,\n",
              " 'close': 430,\n",
              " 'consumer': 431,\n",
              " 'vote': 432,\n",
              " 'union': 433,\n",
              " 'beat': 434,\n",
              " 'form': 435,\n",
              " 'mail': 436,\n",
              " 'issues': 437,\n",
              " 'forward': 438,\n",
              " 'production': 439,\n",
              " 'wanted': 440,\n",
              " 'running': 441,\n",
              " 'global': 442,\n",
              " 'main': 443,\n",
              " 'available': 444,\n",
              " 'hold': 445,\n",
              " 'french': 446,\n",
              " 'content': 447,\n",
              " 'human': 448,\n",
              " 'higher': 449,\n",
              " 'live': 450,\n",
              " 'rates': 451,\n",
              " 'career': 452,\n",
              " 'known': 453,\n",
              " 'trying': 454,\n",
              " 'total': 455,\n",
              " 'agreed': 456,\n",
              " 'cash': 457,\n",
              " 'city': 458,\n",
              " 'success': 459,\n",
              " 'small': 460,\n",
              " 'iraq': 461,\n",
              " 'break': 462,\n",
              " 'saw': 463,\n",
              " 'health': 464,\n",
              " 'aid': 465,\n",
              " 'committee': 466,\n",
              " 'buy': 467,\n",
              " 'album': 468,\n",
              " 'competition': 469,\n",
              " 'hope': 470,\n",
              " 'football': 471,\n",
              " 'song': 472,\n",
              " 'short': 473,\n",
              " 'previous': 474,\n",
              " 'let': 475,\n",
              " 'comes': 476,\n",
              " 'though': 477,\n",
              " 'recently': 478,\n",
              " 'stock': 479,\n",
              " 'single': 480,\n",
              " 'evidence': 481,\n",
              " 'networks': 482,\n",
              " 'profits': 483,\n",
              " 'several': 484,\n",
              " 'race': 485,\n",
              " 'reports': 486,\n",
              " 'ministers': 487,\n",
              " 'wants': 488,\n",
              " 'failed': 489,\n",
              " 'sony': 490,\n",
              " 'difficult': 491,\n",
              " 'eight': 492,\n",
              " 'goal': 493,\n",
              " 'web': 494,\n",
              " 'book': 495,\n",
              " 'trial': 496,\n",
              " 'development': 497,\n",
              " 'event': 498,\n",
              " 'russian': 499,\n",
              " 'reported': 500,\n",
              " 'sport': 501,\n",
              " 'liberal': 502,\n",
              " 'thursday': 503,\n",
              " 'lib': 504,\n",
              " 'led': 505,\n",
              " 'apple': 506,\n",
              " 'pc': 507,\n",
              " 'showed': 508,\n",
              " 'commission': 509,\n",
              " 'christmas': 510,\n",
              " 'others': 511,\n",
              " 'sir': 512,\n",
              " 'late': 513,\n",
              " 'fourth': 514,\n",
              " 'rose': 515,\n",
              " 'call': 516,\n",
              " 'rules': 517,\n",
              " 'meet': 518,\n",
              " 'customers': 519,\n",
              " 'points': 520,\n",
              " 'fact': 521,\n",
              " 'charles': 522,\n",
              " 'nothing': 523,\n",
              " 'television': 524,\n",
              " 'site': 525,\n",
              " 'gaming': 526,\n",
              " 'board': 527,\n",
              " 'champion': 528,\n",
              " 'jones': 529,\n",
              " 'cannot': 530,\n",
              " 'italy': 531,\n",
              " 'family': 532,\n",
              " 'annual': 533,\n",
              " 'liverpool': 534,\n",
              " 'october': 535,\n",
              " 'prize': 536,\n",
              " 'september': 537,\n",
              " 'choice': 538,\n",
              " 'instead': 539,\n",
              " 'boss': 540,\n",
              " 'york': 541,\n",
              " 'shows': 542,\n",
              " 'test': 543,\n",
              " 'growing': 544,\n",
              " 'co': 545,\n",
              " 'parties': 546,\n",
              " 'feel': 547,\n",
              " 'consumers': 548,\n",
              " 'received': 549,\n",
              " 'claim': 550,\n",
              " 'name': 551,\n",
              " 'debt': 552,\n",
              " 'stop': 553,\n",
              " 'involved': 554,\n",
              " 'version': 555,\n",
              " 'mp': 556,\n",
              " 'popular': 557,\n",
              " 'arsenal': 558,\n",
              " 'movie': 559,\n",
              " 'project': 560,\n",
              " 'summer': 561,\n",
              " 'fall': 562,\n",
              " 'mean': 563,\n",
              " 'conference': 564,\n",
              " 'age': 565,\n",
              " 'car': 566,\n",
              " 'africa': 567,\n",
              " 'order': 568,\n",
              " 'euros': 569,\n",
              " 'release': 570,\n",
              " 'denied': 571,\n",
              " 'parliament': 572,\n",
              " 'australian': 573,\n",
              " 'pressure': 574,\n",
              " 'tour': 575,\n",
              " 'changes': 576,\n",
              " 'giant': 577,\n",
              " 'sure': 578,\n",
              " 'calls': 579,\n",
              " 'street': 580,\n",
              " 'leading': 581,\n",
              " 'fell': 582,\n",
              " 'large': 583,\n",
              " 'position': 584,\n",
              " 'bit': 585,\n",
              " 'education': 586,\n",
              " 'olympic': 587,\n",
              " 'actress': 588,\n",
              " 'together': 589,\n",
              " 'round': 590,\n",
              " 'boost': 591,\n",
              " 'launch': 592,\n",
              " 'black': 593,\n",
              " 'box': 594,\n",
              " 'irish': 595,\n",
              " 'love': 596,\n",
              " 'association': 597,\n",
              " 'paid': 598,\n",
              " 'stars': 599,\n",
              " 'talks': 600,\n",
              " 'dvd': 601,\n",
              " 'accused': 602,\n",
              " 'manchester': 603,\n",
              " 'largest': 604,\n",
              " 'special': 605,\n",
              " 'paul': 606,\n",
              " 'german': 607,\n",
              " 'sent': 608,\n",
              " 'create': 609,\n",
              " 'similar': 610,\n",
              " 'claimed': 611,\n",
              " 'range': 612,\n",
              " 'potential': 613,\n",
              " 'gordon': 614,\n",
              " 'needs': 615,\n",
              " 'germany': 616,\n",
              " 'quite': 617,\n",
              " 'west': 618,\n",
              " 'school': 619,\n",
              " 'date': 620,\n",
              " 'ensure': 621,\n",
              " 'turn': 622,\n",
              " 'products': 623,\n",
              " 'ball': 624,\n",
              " 'believes': 625,\n",
              " 'opening': 626,\n",
              " 'voters': 627,\n",
              " 'dr': 628,\n",
              " 'sites': 629,\n",
              " 'senior': 630,\n",
              " 'stage': 631,\n",
              " 'martin': 632,\n",
              " 'weekend': 633,\n",
              " 'anything': 634,\n",
              " 'started': 635,\n",
              " 'whole': 636,\n",
              " 'singer': 637,\n",
              " 'launched': 638,\n",
              " 'immigration': 639,\n",
              " 'seven': 640,\n",
              " 'value': 641,\n",
              " 'hours': 642,\n",
              " 'pre': 643,\n",
              " 'appeal': 644,\n",
              " 'festival': 645,\n",
              " 'conservative': 646,\n",
              " 'exchange': 647,\n",
              " 'independent': 648,\n",
              " 'makes': 649,\n",
              " 'night': 650,\n",
              " 'grand': 651,\n",
              " 'idea': 652,\n",
              " 'russia': 653,\n",
              " 'remain': 654,\n",
              " 'simply': 655,\n",
              " 'scottish': 656,\n",
              " 'official': 657,\n",
              " 'either': 658,\n",
              " 'taxes': 659,\n",
              " 'stand': 660,\n",
              " 'bush': 661,\n",
              " 'squad': 662,\n",
              " 'proposals': 663,\n",
              " 'hopes': 664,\n",
              " 'period': 665,\n",
              " 'provide': 666,\n",
              " 'v': 667,\n",
              " 'oscar': 668,\n",
              " 'virus': 669,\n",
              " 'force': 670,\n",
              " 'rock': 671,\n",
              " 'wrong': 672,\n",
              " 'ban': 673,\n",
              " 'results': 674,\n",
              " 'meanwhile': 675,\n",
              " 'robinson': 676,\n",
              " 'forced': 677,\n",
              " 'attacks': 678,\n",
              " 'drive': 679,\n",
              " 'impact': 680,\n",
              " 'devices': 681,\n",
              " 'survey': 682,\n",
              " 'bring': 683,\n",
              " 'comedy': 684,\n",
              " 'agency': 685,\n",
              " 'officials': 686,\n",
              " 'gave': 687,\n",
              " 'fraud': 688,\n",
              " 'admitted': 689,\n",
              " 'helped': 690,\n",
              " 'fight': 691,\n",
              " 'history': 692,\n",
              " 'speed': 693,\n",
              " 'ukip': 694,\n",
              " 'cards': 695,\n",
              " 'university': 696,\n",
              " 'average': 697,\n",
              " 'investors': 698,\n",
              " 'charge': 699,\n",
              " 'areas': 700,\n",
              " 'press': 701,\n",
              " 'kennedy': 702,\n",
              " 'cuts': 703,\n",
              " 'fund': 704,\n",
              " 'sell': 705,\n",
              " 'per': 706,\n",
              " 'everyone': 707,\n",
              " 'chart': 708,\n",
              " 'course': 709,\n",
              " 'happy': 710,\n",
              " 'energy': 711,\n",
              " 'numbers': 712,\n",
              " 'markets': 713,\n",
              " 'standard': 714,\n",
              " 'drugs': 715,\n",
              " 'everything': 716,\n",
              " 'soon': 717,\n",
              " 'australia': 718,\n",
              " 'worked': 719,\n",
              " 'charges': 720,\n",
              " 'winner': 721,\n",
              " 'included': 722,\n",
              " 'smith': 723,\n",
              " 'private': 724,\n",
              " 'community': 725,\n",
              " 'groups': 726,\n",
              " 'moment': 727,\n",
              " 'compared': 728,\n",
              " 'original': 729,\n",
              " 'became': 730,\n",
              " 'brought': 731,\n",
              " 'staff': 732,\n",
              " 'laws': 733,\n",
              " 'view': 734,\n",
              " 'target': 735,\n",
              " 'authorities': 736,\n",
              " 'named': 737,\n",
              " 'outside': 738,\n",
              " 'extra': 739,\n",
              " 'poor': 740,\n",
              " 'turned': 741,\n",
              " 'sector': 742,\n",
              " 'attack': 743,\n",
              " 'commons': 744,\n",
              " 'america': 745,\n",
              " 'euro': 746,\n",
              " 'opportunity': 747,\n",
              " 'concerns': 748,\n",
              " 'kilroy': 749,\n",
              " 'particularly': 750,\n",
              " 'comments': 751,\n",
              " 'process': 752,\n",
              " 'situation': 753,\n",
              " 'june': 754,\n",
              " 'member': 755,\n",
              " 'department': 756,\n",
              " 'remains': 757,\n",
              " 'double': 758,\n",
              " 'bt': 759,\n",
              " 'defence': 760,\n",
              " 'whose': 761,\n",
              " 'shot': 762,\n",
              " 'tough': 763,\n",
              " 'newspaper': 764,\n",
              " 'roddick': 765,\n",
              " 'card': 766,\n",
              " 'spent': 767,\n",
              " 'battle': 768,\n",
              " 'decided': 769,\n",
              " 'takes': 770,\n",
              " 'front': 771,\n",
              " 'challenge': 772,\n",
              " 'lower': 773,\n",
              " 'tsunami': 774,\n",
              " 'audience': 775,\n",
              " 'bad': 776,\n",
              " 'often': 777,\n",
              " 'area': 778,\n",
              " 'via': 779,\n",
              " 'cross': 780,\n",
              " 'workers': 781,\n",
              " 'body': 782,\n",
              " 'concerned': 783,\n",
              " 'bought': 784,\n",
              " 'hand': 785,\n",
              " 'created': 786,\n",
              " 'civil': 787,\n",
              " 'majority': 788,\n",
              " 'air': 789,\n",
              " 'entertainment': 790,\n",
              " 'google': 791,\n",
              " 'generation': 792,\n",
              " 'quality': 793,\n",
              " 'confirmed': 794,\n",
              " 'unit': 795,\n",
              " 'robert': 796,\n",
              " 'screen': 797,\n",
              " 'experience': 798,\n",
              " 'andy': 799,\n",
              " 'step': 800,\n",
              " 'host': 801,\n",
              " 'focus': 802,\n",
              " 'poll': 803,\n",
              " 'finance': 804,\n",
              " 'training': 805,\n",
              " 'speaking': 806,\n",
              " 'selling': 807,\n",
              " 'amount': 808,\n",
              " 'lords': 809,\n",
              " 'johnson': 810,\n",
              " 'gone': 811,\n",
              " 'april': 812,\n",
              " 'looked': 813,\n",
              " 'levels': 814,\n",
              " 'shown': 815,\n",
              " 'silk': 816,\n",
              " 'mike': 817,\n",
              " 'example': 818,\n",
              " 'speech': 819,\n",
              " 'captain': 820,\n",
              " 'non': 821,\n",
              " 'reached': 822,\n",
              " 'analyst': 823,\n",
              " 'lives': 824,\n",
              " 'indian': 825,\n",
              " 'signed': 826,\n",
              " 'champions': 827,\n",
              " 'increased': 828,\n",
              " 'story': 829,\n",
              " 'states': 830,\n",
              " 'reach': 831,\n",
              " 'revealed': 832,\n",
              " 'leave': 833,\n",
              " 'raise': 834,\n",
              " 'james': 835,\n",
              " 'deutsche': 836,\n",
              " 'terms': 837,\n",
              " 'row': 838,\n",
              " 'critics': 839,\n",
              " 'risk': 840,\n",
              " 'stay': 841,\n",
              " 'spend': 842,\n",
              " 'confidence': 843,\n",
              " 'positive': 844,\n",
              " 'campbell': 845,\n",
              " 'north': 846,\n",
              " 'white': 847,\n",
              " 'easy': 848,\n",
              " 'message': 849,\n",
              " 'fast': 850,\n",
              " 'longer': 851,\n",
              " 'insisted': 852,\n",
              " 'conservatives': 853,\n",
              " 'post': 854,\n",
              " 'debate': 855,\n",
              " 'schools': 856,\n",
              " 'alan': 857,\n",
              " 'davis': 858,\n",
              " 'credit': 859,\n",
              " 'banks': 860,\n",
              " 'offered': 861,\n",
              " 'worth': 862,\n",
              " 'looks': 863,\n",
              " 'deficit': 864,\n",
              " 'hollywood': 865,\n",
              " 'systems': 866,\n",
              " 'serious': 867,\n",
              " 'previously': 868,\n",
              " 'trading': 869,\n",
              " 'care': 870,\n",
              " 'profit': 871,\n",
              " 'argued': 872,\n",
              " 'response': 873,\n",
              " 'titles': 874,\n",
              " 'build': 875,\n",
              " 'social': 876,\n",
              " 'opposition': 877,\n",
              " 'east': 878,\n",
              " 'debut': 879,\n",
              " 'central': 880,\n",
              " 'agreement': 881,\n",
              " 'allowed': 882,\n",
              " 'messages': 883,\n",
              " 'trust': 884,\n",
              " 'widely': 885,\n",
              " 'r': 886,\n",
              " 'nine': 887,\n",
              " 'met': 888,\n",
              " 'details': 889,\n",
              " 'began': 890,\n",
              " 'threat': 891,\n",
              " 'ceremony': 892,\n",
              " 'attempt': 893,\n",
              " 'madrid': 894,\n",
              " 'probably': 895,\n",
              " 'rival': 896,\n",
              " 'rest': 897,\n",
              " 'management': 898,\n",
              " 'download': 899,\n",
              " 'b': 900,\n",
              " 'blunkett': 901,\n",
              " 'suggested': 902,\n",
              " 'hour': 903,\n",
              " 'followed': 904,\n",
              " 'felt': 905,\n",
              " 'person': 906,\n",
              " 'anyone': 907,\n",
              " 'figure': 908,\n",
              " 'ray': 909,\n",
              " 'account': 910,\n",
              " 'windows': 911,\n",
              " 'parents': 912,\n",
              " 'millions': 913,\n",
              " 'society': 914,\n",
              " 'effort': 915,\n",
              " 'cases': 916,\n",
              " 'english': 917,\n",
              " 'gadget': 918,\n",
              " 'favourite': 919,\n",
              " 'pcs': 920,\n",
              " 'minute': 921,\n",
              " 'light': 922,\n",
              " 'nominations': 923,\n",
              " 'death': 924,\n",
              " 'fear': 925,\n",
              " 'premiership': 926,\n",
              " 'crime': 927,\n",
              " 'missed': 928,\n",
              " 'along': 929,\n",
              " 'measures': 930,\n",
              " 'field': 931,\n",
              " 'organisation': 932,\n",
              " 'designed': 933,\n",
              " 'affected': 934,\n",
              " 'athens': 935,\n",
              " 'watch': 936,\n",
              " 'believed': 937,\n",
              " 'matter': 938,\n",
              " 'expect': 939,\n",
              " 'moved': 940,\n",
              " 'bankruptcy': 941,\n",
              " 'websites': 942,\n",
              " 'significant': 943,\n",
              " 'income': 944,\n",
              " 'ways': 945,\n",
              " 'exports': 946,\n",
              " 'track': 947,\n",
              " 'question': 948,\n",
              " 'zealand': 949,\n",
              " 'pair': 950,\n",
              " 'winners': 951,\n",
              " 'technologies': 952,\n",
              " 'programmes': 953,\n",
              " 'nominated': 954,\n",
              " 'domestic': 955,\n",
              " 'rule': 956,\n",
              " 'illegal': 957,\n",
              " 'becoming': 958,\n",
              " 'nearly': 959,\n",
              " 'wide': 960,\n",
              " 'protection': 961,\n",
              " 'peter': 962,\n",
              " 'dropped': 963,\n",
              " 'planning': 964,\n",
              " 'ruled': 965,\n",
              " 'judge': 966,\n",
              " 'building': 967,\n",
              " 'kelly': 968,\n",
              " 'dems': 969,\n",
              " 'j': 970,\n",
              " 'businesses': 971,\n",
              " 'gold': 972,\n",
              " 'asylum': 973,\n",
              " 'newcastle': 974,\n",
              " 'politics': 975,\n",
              " 'spain': 976,\n",
              " 'individual': 977,\n",
              " 'clarke': 978,\n",
              " 'wins': 979,\n",
              " 'de': 980,\n",
              " 'near': 981,\n",
              " 'confident': 982,\n",
              " 'wireless': 983,\n",
              " 'written': 984,\n",
              " 'file': 985,\n",
              " 'spam': 986,\n",
              " 'mini': 987,\n",
              " 'category': 988,\n",
              " 'device': 989,\n",
              " 'talk': 990,\n",
              " 'musical': 991,\n",
              " 'scheme': 992,\n",
              " 'keen': 993,\n",
              " 'machines': 994,\n",
              " 'channel': 995,\n",
              " 'gadgets': 996,\n",
              " 'defeat': 997,\n",
              " 'maker': 998,\n",
              " 'couple': 999,\n",
              " 'successful': 1000,\n",
              " ...}"
            ]
          },
          "metadata": {
            "tags": []
          },
          "execution_count": 23
        }
      ]
    },
    {
      "cell_type": "code",
      "metadata": {
        "colab": {
          "base_uri": "https://localhost:8080/",
          "height": 268
        },
        "id": "TFK-vgJ7q4eM",
        "outputId": "2afe386e-ec74-45bb-c64f-7f272aed3949"
      },
      "source": [
        "plt.hist([len(x) for x in X],bins=700) #mostly the words are lessthan 500\n",
        "plt.show()"
      ],
      "execution_count": null,
      "outputs": [
        {
          "output_type": "display_data",
          "data": {
            "image/png": "[encoded data removed]",
            "text/plain": [
              "<Figure size 432x288 with 1 Axes>"
            ]
          },
          "metadata": {
            "tags": [],
            "needs_background": "light"
          }
        }
      ]
    },
    {
      "cell_type": "code",
      "metadata": {
        "colab": {
          "base_uri": "https://localhost:8080/"
        },
        "id": "zv3JZK6Bq4aM",
        "outputId": "5f282cf4-d3d2-48fc-80db-c72af65f7959"
      },
      "source": [
        "nos = np.array([len(x) for x in X])\n",
        "#len(nos[nos>500])\n",
        "len(nos[nos<500])"
      ],
      "execution_count": null,
      "outputs": [
        {
          "output_type": "execute_result",
          "data": {
            "text/plain": [
              "2090"
            ]
          },
          "metadata": {
            "tags": []
          },
          "execution_count": 25
        }
      ]
    },
    {
      "cell_type": "code",
      "metadata": {
        "id": "nQWx_jwlq4Ww"
      },
      "source": [
        "from keras.preprocessing.sequence import pad_sequences\n",
        "maxlen = 500\n",
        "X = pad_sequences(X,maxlen=maxlen)"
      ],
      "execution_count": null,
      "outputs": []
    },
    {
      "cell_type": "code",
      "metadata": {
        "colab": {
          "base_uri": "https://localhost:8080/"
        },
        "id": "2drBPzYLtbly",
        "outputId": "d03cdcde-5ff9-4b5c-9888-340af0349887"
      },
      "source": [
        "len(X[0])"
      ],
      "execution_count": null,
      "outputs": [
        {
          "output_type": "execute_result",
          "data": {
            "text/plain": [
              "500"
            ]
          },
          "metadata": {
            "tags": []
          },
          "execution_count": 27
        }
      ]
    },
    {
      "cell_type": "code",
      "metadata": {
        "id": "ptjNCiQstbjk"
      },
      "source": [
        "vocab_size = len(tokenizer.word_index) + 1\n",
        "vocab = tokenizer.word_index"
      ],
      "execution_count": null,
      "outputs": []
    },
    {
      "cell_type": "code",
      "metadata": {
        "colab": {
          "base_uri": "https://localhost:8080/"
        },
        "id": "su53g1-GtbgO",
        "outputId": "a109b276-c697-41fe-a0ff-500cc19996f0"
      },
      "source": [
        "vocab_size"
      ],
      "execution_count": null,
      "outputs": [
        {
          "output_type": "execute_result",
          "data": {
            "text/plain": [
              "27758"
            ]
          },
          "metadata": {
            "tags": []
          },
          "execution_count": 29
        }
      ]
    },
    {
      "cell_type": "code",
      "metadata": {
        "id": "KkA-nSZCtbcr"
      },
      "source": [
        "def get_weight_matrix(model):\n",
        "  weight_matrix = np.zeros((vocab_size, word_dim))\n",
        "\n",
        "  for word, i in vocab.items():\n",
        "    weight_matrix[i] = model.wv[word]\n",
        "  return weight_matrix  "
      ],
      "execution_count": null,
      "outputs": []
    },
    {
      "cell_type": "code",
      "metadata": {
        "id": "zdnffduhvXxD"
      },
      "source": [
        "embedding_vectors = get_weight_matrix(w2v_model)"
      ],
      "execution_count": null,
      "outputs": []
    },
    {
      "cell_type": "code",
      "metadata": {
        "colab": {
          "base_uri": "https://localhost:8080/"
        },
        "id": "iTIiyq2DvXuu",
        "outputId": "0231c058-b157-4d8e-fd86-261a837b3836"
      },
      "source": [
        "embedding_vectors.shape"
      ],
      "execution_count": null,
      "outputs": [
        {
          "output_type": "execute_result",
          "data": {
            "text/plain": [
              "(27758, 100)"
            ]
          },
          "metadata": {
            "tags": []
          },
          "execution_count": 32
        }
      ]
    },
    {
      "cell_type": "code",
      "metadata": {
        "id": "5mzIuMijvXqr"
      },
      "source": [
        "from keras.models import Sequential\n",
        "from keras.layers import Dense, Embedding, LSTM, SpatialDropout1D\n",
        "from sklearn.model_selection import train_test_split\n",
        "from keras.utils.np_utils import to_categorical\n",
        "from keras.callbacks import EarlyStopping\n",
        "from keras.layers import Dropout"
      ],
      "execution_count": null,
      "outputs": []
    },
    {
      "cell_type": "code",
      "metadata": {
        "id": "lFhJNQJXvXnT"
      },
      "source": [
        "model = Sequential()\n",
        "model.add(Embedding(vocab_size, output_dim=word_dim, weights = [embedding_vectors], input_length=maxlen, trainable=False))\n",
        "model.add(LSTM(units=128))\n",
        "model.add(Dense(5,activation='softmax'))\n",
        "model.compile(optimizer='adam', loss='categorical_crossentropy',metrics=['accuracy'])"
      ],
      "execution_count": null,
      "outputs": []
    },
    {
      "cell_type": "code",
      "metadata": {
        "colab": {
          "base_uri": "https://localhost:8080/"
        },
        "id": "4UVUfbOMyFga",
        "outputId": "a33b9c10-f893-47c3-8fef-c213b6a11581"
      },
      "source": [
        "model.summary()"
      ],
      "execution_count": null,
      "outputs": [
        {
          "output_type": "stream",
          "text": [
            "Model: \"sequential\"\n",
            "_________________________________________________________________\n",
            "Layer (type)                 Output Shape              Param #   \n",
            "=================================================================\n",
            "embedding (Embedding)        (None, 500, 100)          2775800   \n",
            "_________________________________________________________________\n",
            "lstm (LSTM)                  (None, 128)               117248    \n",
            "_________________________________________________________________\n",
            "dense (Dense)                (None, 5)                 645       \n",
            "=================================================================\n",
            "Total params: 2,893,693\n",
            "Trainable params: 117,893\n",
            "Non-trainable params: 2,775,800\n",
            "_________________________________________________________________\n"
          ],
          "name": "stdout"
        }
      ]
    },
    {
      "cell_type": "code",
      "metadata": {
        "colab": {
          "base_uri": "https://localhost:8080/"
        },
        "id": "bABkThJVy1Tl",
        "outputId": "ecc665b4-847e-4ee2-a17d-7fbe5323d705"
      },
      "source": [
        "Y = pd.get_dummies(data['category']).values\n",
        "print('Shape of label tensor:', Y.shape)"
      ],
      "execution_count": null,
      "outputs": [
        {
          "output_type": "stream",
          "text": [
            "Shape of label tensor: (2126, 5)\n"
          ],
          "name": "stdout"
        }
      ]
    },
    {
      "cell_type": "code",
      "metadata": {
        "id": "j9Yf0QMX07np"
      },
      "source": [
        "y = data['category'].replace({'business':1,'entertainment':2,'politics':3,'sport':4,'tech':5})"
      ],
      "execution_count": null,
      "outputs": []
    },
    {
      "cell_type": "code",
      "metadata": {
        "colab": {
          "base_uri": "https://localhost:8080/"
        },
        "id": "B7XVegCUzHOT",
        "outputId": "74108cae-906e-4971-92eb-8f28a7c69218"
      },
      "source": [
        "X.shape"
      ],
      "execution_count": null,
      "outputs": [
        {
          "output_type": "execute_result",
          "data": {
            "text/plain": [
              "(2126, 500)"
            ]
          },
          "metadata": {
            "tags": []
          },
          "execution_count": 38
        }
      ]
    },
    {
      "cell_type": "code",
      "metadata": {
        "colab": {
          "base_uri": "https://localhost:8080/"
        },
        "id": "v6gdvLu0zJVv",
        "outputId": "069a50d0-a7f3-4728-e85f-6770c428da33"
      },
      "source": [
        "X_train, X_test, Y_train, Y_test = train_test_split(X,Y, test_size = 0.10, random_state = 42)\n",
        "print(X_train.shape,Y_train.shape)\n",
        "print(X_test.shape,Y_test.shape)"
      ],
      "execution_count": null,
      "outputs": [
        {
          "output_type": "stream",
          "text": [
            "(1913, 500) (1913, 5)\n",
            "(213, 500) (213, 5)\n"
          ],
          "name": "stdout"
        }
      ]
    },
    {
      "cell_type": "code",
      "metadata": {
        "colab": {
          "base_uri": "https://localhost:8080/"
        },
        "id": "aqU525eTzlBF",
        "outputId": "f0e1d0e7-d166-4b1b-f4ff-1fe3ffab05fc"
      },
      "source": [
        "model_2 = Sequential()\n",
        "model_2.add(Embedding(50000, word_dim, input_length=X.shape[1]))\n",
        "model_2.add(SpatialDropout1D(0.2))\n",
        "model_2.add(LSTM(100, dropout=0.2, recurrent_dropout=0.2))\n",
        "model_2.add(Dense(5, activation='softmax'))\n",
        "model_2.compile(loss='categorical_crossentropy', optimizer='adam', metrics=['accuracy'])\n",
        "print(model_2.summary())"
      ],
      "execution_count": null,
      "outputs": [
        {
          "output_type": "stream",
          "text": [
            "WARNING:tensorflow:Layer lstm_1 will not use cuDNN kernels since it doesn't meet the criteria. It will use a generic GPU kernel as fallback when running on GPU.\n",
            "Model: \"sequential_1\"\n",
            "_________________________________________________________________\n",
            "Layer (type)                 Output Shape              Param #   \n",
            "=================================================================\n",
            "embedding_1 (Embedding)      (None, 500, 100)          5000000   \n",
            "_________________________________________________________________\n",
            "spatial_dropout1d (SpatialDr (None, 500, 100)          0         \n",
            "_________________________________________________________________\n",
            "lstm_1 (LSTM)                (None, 100)               80400     \n",
            "_________________________________________________________________\n",
            "dense_1 (Dense)              (None, 5)                 505       \n",
            "=================================================================\n",
            "Total params: 5,080,905\n",
            "Trainable params: 5,080,905\n",
            "Non-trainable params: 0\n",
            "_________________________________________________________________\n",
            "None\n"
          ],
          "name": "stdout"
        }
      ]
    },
    {
      "cell_type": "code",
      "metadata": {
        "colab": {
          "base_uri": "https://localhost:8080/"
        },
        "id": "bYKCSqg8zk8_",
        "outputId": "57cc5c3d-8c4b-4397-ba59-3d448a83ebf4"
      },
      "source": [
        "model_history = model_2.fit(X_train,Y_train,epochs=10,batch_size=64,validation_split=0.2)"
      ],
      "execution_count": null,
      "outputs": [
        {
          "output_type": "stream",
          "text": [
            "Epoch 1/10\n",
            "24/24 [==============================] - 67s 2s/step - loss: 1.6019 - accuracy: 0.2526 - val_loss: 1.5662 - val_accuracy: 0.2010\n",
            "Epoch 2/10\n",
            "24/24 [==============================] - 44s 2s/step - loss: 1.5855 - accuracy: 0.4533 - val_loss: 1.4131 - val_accuracy: 0.6319\n",
            "Epoch 3/10\n",
            "24/24 [==============================] - 43s 2s/step - loss: 1.0746 - accuracy: 0.7908 - val_loss: 0.8462 - val_accuracy: 0.7102\n",
            "Epoch 4/10\n",
            "24/24 [==============================] - 44s 2s/step - loss: 0.5501 - accuracy: 0.8885 - val_loss: 0.5855 - val_accuracy: 0.8068\n",
            "Epoch 5/10\n",
            "24/24 [==============================] - 44s 2s/step - loss: 0.3151 - accuracy: 0.9072 - val_loss: 0.3757 - val_accuracy: 0.8668\n",
            "Epoch 6/10\n",
            "24/24 [==============================] - 43s 2s/step - loss: 0.1006 - accuracy: 0.9804 - val_loss: 0.2392 - val_accuracy: 0.9347\n",
            "Epoch 7/10\n",
            "24/24 [==============================] - 43s 2s/step - loss: 0.0460 - accuracy: 0.9933 - val_loss: 0.2766 - val_accuracy: 0.9034\n",
            "Epoch 8/10\n",
            "24/24 [==============================] - 43s 2s/step - loss: 0.0260 - accuracy: 1.0000 - val_loss: 0.1928 - val_accuracy: 0.9504\n",
            "Epoch 9/10\n",
            "24/24 [==============================] - 44s 2s/step - loss: 0.0131 - accuracy: 0.9986 - val_loss: 0.2168 - val_accuracy: 0.9269\n",
            "Epoch 10/10\n",
            "24/24 [==============================] - 43s 2s/step - loss: 0.1797 - accuracy: 0.9579 - val_loss: 0.3993 - val_accuracy: 0.8695\n"
          ],
          "name": "stdout"
        }
      ]
    },
    {
      "cell_type": "code",
      "metadata": {
        "id": "pHguwMdf7aj5"
      },
      "source": [
        "pred_2 = model_2.predict(X_test)"
      ],
      "execution_count": null,
      "outputs": []
    },
    {
      "cell_type": "code",
      "metadata": {
        "colab": {
          "base_uri": "https://localhost:8080/"
        },
        "id": "Uv0-RNwV7afZ",
        "outputId": "2484030b-20d0-4efe-bc9c-f3866784bd7e"
      },
      "source": [
        "scores = model_2.evaluate(X_test, Y_test)\n",
        "print(scores)"
      ],
      "execution_count": null,
      "outputs": [
        {
          "output_type": "stream",
          "text": [
            "7/7 [==============================] - 1s 117ms/step - loss: 0.3012 - accuracy: 0.9484\n",
            "[0.30119508504867554, 0.9483568072319031]\n"
          ],
          "name": "stdout"
        }
      ]
    },
    {
      "cell_type": "code",
      "metadata": {
        "id": "JeQac_rg871A"
      },
      "source": [
        ""
      ],
      "execution_count": null,
      "outputs": []
    },
    {
      "cell_type": "code",
      "metadata": {
        "colab": {
          "base_uri": "https://localhost:8080/"
        },
        "id": "gm2VN1Om8-zN",
        "outputId": "868d6363-2566-452a-f13a-58c39d487767"
      },
      "source": [
        "model_history_1 = model.fit(X_train,Y_train,epochs=6,validation_split=0.3)"
      ],
      "execution_count": null,
      "outputs": [
        {
          "output_type": "stream",
          "text": [
            "Epoch 1/6\n",
            "42/42 [==============================] - 1s 34ms/step - loss: 0.5623 - accuracy: 0.8021 - val_loss: 0.3737 - val_accuracy: 0.8990\n",
            "Epoch 2/6\n",
            "42/42 [==============================] - 1s 32ms/step - loss: 0.4253 - accuracy: 0.8693 - val_loss: 0.6094 - val_accuracy: 0.8101\n",
            "Epoch 3/6\n",
            "42/42 [==============================] - 1s 31ms/step - loss: 0.6573 - accuracy: 0.7894 - val_loss: 0.4658 - val_accuracy: 0.8850\n",
            "Epoch 4/6\n",
            "42/42 [==============================] - 1s 30ms/step - loss: 0.4583 - accuracy: 0.8641 - val_loss: 0.4031 - val_accuracy: 0.8833\n",
            "Epoch 5/6\n",
            "42/42 [==============================] - 1s 31ms/step - loss: 0.5429 - accuracy: 0.8252 - val_loss: 0.3357 - val_accuracy: 0.8972\n",
            "Epoch 6/6\n",
            "42/42 [==============================] - 1s 31ms/step - loss: 0.4190 - accuracy: 0.8588 - val_loss: 0.4091 - val_accuracy: 0.8624\n"
          ],
          "name": "stdout"
        }
      ]
    },
    {
      "cell_type": "code",
      "metadata": {
        "colab": {
          "base_uri": "https://localhost:8080/"
        },
        "id": "ZZPYyAqz9vmW",
        "outputId": "d9ea7361-727d-40b0-f04c-3ac54c335bca"
      },
      "source": [
        "scores_of_model = model.evaluate(X_test, Y_test)\n",
        "print(scores_of_model)"
      ],
      "execution_count": null,
      "outputs": [
        {
          "output_type": "stream",
          "text": [
            "7/7 [==============================] - 0s 20ms/step - loss: 0.2832 - accuracy: 0.9249\n",
            "[0.2832286059856415, 0.9248826503753662]\n"
          ],
          "name": "stdout"
        }
      ]
    },
    {
      "cell_type": "code",
      "metadata": {
        "id": "7GubJMG7-Dqi"
      },
      "source": [
        "pred_1 = np.argmax(model.predict(X_test),axis=1)"
      ],
      "execution_count": null,
      "outputs": []
    }
  ]
}